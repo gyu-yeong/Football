{
 "cells": [
  {
   "cell_type": "markdown",
   "id": "f5ff719b",
   "metadata": {},
   "source": [
    "# 2022 K리그1 선수 기록 데이터\n",
    "\n",
    "- 본 데이터프레임은 총 429명 (중복 포함)의 선수 데이터와 77개의 선수 기록 및 신상 정보를 담고 있다.\n",
    "- 출처는 K리그 데이터포털의 2022년 경기 기록을 기반으로 구단 홈페이지, 나무위키 등을 활용해 포지션, 출생연도, 신장 등의 정보를 별도로 추출하였다. \n",
    "- 범주형 변수: 팀, 선수명, 포지션, 국적, 신장, 출생연도\n",
    "- 연속형 변수: 출전시간, 득점, 도움, 슈팅, 유효슈팅 등 총 71개 변수"
   ]
  },
  {
   "cell_type": "code",
   "execution_count": 1,
   "id": "7a24d494",
   "metadata": {},
   "outputs": [],
   "source": [
    "import pandas as pd\n",
    "import numpy as np\n",
    "import matplotlib.pyplot as plt\n",
    "import seaborn as sns\n",
    "import warnings\n",
    "warnings.filterwarnings('ignore')\n",
    "import math\n",
    "\n",
    "#한글 깨짐 방지 코드\n",
    "from matplotlib import rc, style, font_manager\n",
    "font_name = font_manager.FontProperties(fname=\"C:/windows/Fonts/malgun.ttf\").get_name()\n",
    "rc('font', family=font_name)\n",
    "style.use('ggplot')"
   ]
  },
  {
   "cell_type": "code",
   "execution_count": 2,
   "id": "4e14ed41",
   "metadata": {},
   "outputs": [
    {
     "data": {
      "text/html": [
       "<div>\n",
       "<style scoped>\n",
       "    .dataframe tbody tr th:only-of-type {\n",
       "        vertical-align: middle;\n",
       "    }\n",
       "\n",
       "    .dataframe tbody tr th {\n",
       "        vertical-align: top;\n",
       "    }\n",
       "\n",
       "    .dataframe thead th {\n",
       "        text-align: right;\n",
       "    }\n",
       "</style>\n",
       "<table border=\"1\" class=\"dataframe\">\n",
       "  <thead>\n",
       "    <tr style=\"text-align: right;\">\n",
       "      <th></th>\n",
       "      <th>팀</th>\n",
       "      <th>선수명</th>\n",
       "      <th>포지션</th>\n",
       "      <th>국적</th>\n",
       "      <th>신장</th>\n",
       "      <th>출전시간</th>\n",
       "      <th>득점</th>\n",
       "      <th>도움</th>\n",
       "      <th>슈팅</th>\n",
       "      <th>유효슈팅</th>\n",
       "      <th>...</th>\n",
       "      <th>차단</th>\n",
       "      <th>획득</th>\n",
       "      <th>블락</th>\n",
       "      <th>볼미스</th>\n",
       "      <th>파울</th>\n",
       "      <th>피파울</th>\n",
       "      <th>경고</th>\n",
       "      <th>퇴장</th>\n",
       "      <th>번호</th>\n",
       "      <th>출생연도</th>\n",
       "    </tr>\n",
       "  </thead>\n",
       "  <tbody>\n",
       "    <tr>\n",
       "      <th>0</th>\n",
       "      <td>강원</td>\n",
       "      <td>갈레고</td>\n",
       "      <td>FW</td>\n",
       "      <td>브라질</td>\n",
       "      <td>172</td>\n",
       "      <td>386</td>\n",
       "      <td>3</td>\n",
       "      <td>0</td>\n",
       "      <td>11</td>\n",
       "      <td>5</td>\n",
       "      <td>...</td>\n",
       "      <td>6</td>\n",
       "      <td>24</td>\n",
       "      <td>8</td>\n",
       "      <td>4</td>\n",
       "      <td>11</td>\n",
       "      <td>10</td>\n",
       "      <td>2</td>\n",
       "      <td>0</td>\n",
       "      <td>11</td>\n",
       "      <td>1997</td>\n",
       "    </tr>\n",
       "    <tr>\n",
       "      <th>1</th>\n",
       "      <td>인천</td>\n",
       "      <td>강민수</td>\n",
       "      <td>CB</td>\n",
       "      <td>대한민국</td>\n",
       "      <td>186</td>\n",
       "      <td>2029</td>\n",
       "      <td>0</td>\n",
       "      <td>0</td>\n",
       "      <td>1</td>\n",
       "      <td>1</td>\n",
       "      <td>...</td>\n",
       "      <td>36</td>\n",
       "      <td>68</td>\n",
       "      <td>63</td>\n",
       "      <td>4</td>\n",
       "      <td>10</td>\n",
       "      <td>16</td>\n",
       "      <td>1</td>\n",
       "      <td>1</td>\n",
       "      <td>4</td>\n",
       "      <td>1986</td>\n",
       "    </tr>\n",
       "    <tr>\n",
       "      <th>2</th>\n",
       "      <td>포항</td>\n",
       "      <td>강상우</td>\n",
       "      <td>FB</td>\n",
       "      <td>대한민국</td>\n",
       "      <td>176</td>\n",
       "      <td>49</td>\n",
       "      <td>0</td>\n",
       "      <td>0</td>\n",
       "      <td>0</td>\n",
       "      <td>0</td>\n",
       "      <td>...</td>\n",
       "      <td>0</td>\n",
       "      <td>2</td>\n",
       "      <td>0</td>\n",
       "      <td>0</td>\n",
       "      <td>0</td>\n",
       "      <td>0</td>\n",
       "      <td>0</td>\n",
       "      <td>0</td>\n",
       "      <td>10</td>\n",
       "      <td>1993</td>\n",
       "    </tr>\n",
       "    <tr>\n",
       "      <th>3</th>\n",
       "      <td>전북</td>\n",
       "      <td>강상윤</td>\n",
       "      <td>MF</td>\n",
       "      <td>대한민국</td>\n",
       "      <td>170</td>\n",
       "      <td>551</td>\n",
       "      <td>0</td>\n",
       "      <td>0</td>\n",
       "      <td>8</td>\n",
       "      <td>3</td>\n",
       "      <td>...</td>\n",
       "      <td>13</td>\n",
       "      <td>20</td>\n",
       "      <td>13</td>\n",
       "      <td>7</td>\n",
       "      <td>12</td>\n",
       "      <td>5</td>\n",
       "      <td>3</td>\n",
       "      <td>0</td>\n",
       "      <td>36</td>\n",
       "      <td>2004</td>\n",
       "    </tr>\n",
       "    <tr>\n",
       "      <th>4</th>\n",
       "      <td>서울</td>\n",
       "      <td>강상희</td>\n",
       "      <td>CB</td>\n",
       "      <td>대한민국</td>\n",
       "      <td>180</td>\n",
       "      <td>239</td>\n",
       "      <td>0</td>\n",
       "      <td>0</td>\n",
       "      <td>0</td>\n",
       "      <td>0</td>\n",
       "      <td>...</td>\n",
       "      <td>4</td>\n",
       "      <td>6</td>\n",
       "      <td>4</td>\n",
       "      <td>0</td>\n",
       "      <td>0</td>\n",
       "      <td>1</td>\n",
       "      <td>0</td>\n",
       "      <td>0</td>\n",
       "      <td>28</td>\n",
       "      <td>1998</td>\n",
       "    </tr>\n",
       "    <tr>\n",
       "      <th>...</th>\n",
       "      <td>...</td>\n",
       "      <td>...</td>\n",
       "      <td>...</td>\n",
       "      <td>...</td>\n",
       "      <td>...</td>\n",
       "      <td>...</td>\n",
       "      <td>...</td>\n",
       "      <td>...</td>\n",
       "      <td>...</td>\n",
       "      <td>...</td>\n",
       "      <td>...</td>\n",
       "      <td>...</td>\n",
       "      <td>...</td>\n",
       "      <td>...</td>\n",
       "      <td>...</td>\n",
       "      <td>...</td>\n",
       "      <td>...</td>\n",
       "      <td>...</td>\n",
       "      <td>...</td>\n",
       "      <td>...</td>\n",
       "      <td>...</td>\n",
       "    </tr>\n",
       "    <tr>\n",
       "      <th>424</th>\n",
       "      <td>김천</td>\n",
       "      <td>황인재</td>\n",
       "      <td>GK</td>\n",
       "      <td>대한민국</td>\n",
       "      <td>187</td>\n",
       "      <td>1517</td>\n",
       "      <td>0</td>\n",
       "      <td>0</td>\n",
       "      <td>0</td>\n",
       "      <td>0</td>\n",
       "      <td>...</td>\n",
       "      <td>0</td>\n",
       "      <td>28</td>\n",
       "      <td>2</td>\n",
       "      <td>0</td>\n",
       "      <td>1</td>\n",
       "      <td>4</td>\n",
       "      <td>2</td>\n",
       "      <td>0</td>\n",
       "      <td>1</td>\n",
       "      <td>1994</td>\n",
       "    </tr>\n",
       "    <tr>\n",
       "      <th>425</th>\n",
       "      <td>대구</td>\n",
       "      <td>황재원</td>\n",
       "      <td>FB</td>\n",
       "      <td>대한민국</td>\n",
       "      <td>180</td>\n",
       "      <td>2906</td>\n",
       "      <td>1</td>\n",
       "      <td>3</td>\n",
       "      <td>14</td>\n",
       "      <td>3</td>\n",
       "      <td>...</td>\n",
       "      <td>68</td>\n",
       "      <td>180</td>\n",
       "      <td>68</td>\n",
       "      <td>18</td>\n",
       "      <td>42</td>\n",
       "      <td>26</td>\n",
       "      <td>5</td>\n",
       "      <td>0</td>\n",
       "      <td>2</td>\n",
       "      <td>2002</td>\n",
       "    </tr>\n",
       "    <tr>\n",
       "      <th>426</th>\n",
       "      <td>울산</td>\n",
       "      <td>황재환</td>\n",
       "      <td>MF</td>\n",
       "      <td>대한민국</td>\n",
       "      <td>170</td>\n",
       "      <td>275</td>\n",
       "      <td>0</td>\n",
       "      <td>0</td>\n",
       "      <td>4</td>\n",
       "      <td>2</td>\n",
       "      <td>...</td>\n",
       "      <td>3</td>\n",
       "      <td>14</td>\n",
       "      <td>5</td>\n",
       "      <td>2</td>\n",
       "      <td>4</td>\n",
       "      <td>1</td>\n",
       "      <td>0</td>\n",
       "      <td>0</td>\n",
       "      <td>14</td>\n",
       "      <td>2001</td>\n",
       "    </tr>\n",
       "    <tr>\n",
       "      <th>427</th>\n",
       "      <td>서울</td>\n",
       "      <td>황현수</td>\n",
       "      <td>CB</td>\n",
       "      <td>대한민국</td>\n",
       "      <td>183</td>\n",
       "      <td>486</td>\n",
       "      <td>0</td>\n",
       "      <td>0</td>\n",
       "      <td>1</td>\n",
       "      <td>0</td>\n",
       "      <td>...</td>\n",
       "      <td>7</td>\n",
       "      <td>15</td>\n",
       "      <td>18</td>\n",
       "      <td>1</td>\n",
       "      <td>3</td>\n",
       "      <td>1</td>\n",
       "      <td>1</td>\n",
       "      <td>0</td>\n",
       "      <td>2</td>\n",
       "      <td>1995</td>\n",
       "    </tr>\n",
       "    <tr>\n",
       "      <th>428</th>\n",
       "      <td>서울</td>\n",
       "      <td>히카르도</td>\n",
       "      <td>CB</td>\n",
       "      <td>브라질</td>\n",
       "      <td>190</td>\n",
       "      <td>97</td>\n",
       "      <td>0</td>\n",
       "      <td>0</td>\n",
       "      <td>0</td>\n",
       "      <td>0</td>\n",
       "      <td>...</td>\n",
       "      <td>5</td>\n",
       "      <td>3</td>\n",
       "      <td>6</td>\n",
       "      <td>1</td>\n",
       "      <td>1</td>\n",
       "      <td>1</td>\n",
       "      <td>0</td>\n",
       "      <td>0</td>\n",
       "      <td>45</td>\n",
       "      <td>1992</td>\n",
       "    </tr>\n",
       "  </tbody>\n",
       "</table>\n",
       "<p>429 rows × 77 columns</p>\n",
       "</div>"
      ],
      "text/plain": [
       "      팀   선수명 포지션    국적   신장  출전시간  득점  도움  슈팅  유효슈팅  ...  차단   획득  블락  볼미스  \\\n",
       "0    강원   갈레고  FW   브라질  172   386   3   0  11     5  ...   6   24   8    4   \n",
       "1    인천   강민수  CB  대한민국  186  2029   0   0   1     1  ...  36   68  63    4   \n",
       "2    포항   강상우  FB  대한민국  176    49   0   0   0     0  ...   0    2   0    0   \n",
       "3    전북   강상윤  MF  대한민국  170   551   0   0   8     3  ...  13   20  13    7   \n",
       "4    서울   강상희  CB  대한민국  180   239   0   0   0     0  ...   4    6   4    0   \n",
       "..   ..   ...  ..   ...  ...   ...  ..  ..  ..   ...  ...  ..  ...  ..  ...   \n",
       "424  김천   황인재  GK  대한민국  187  1517   0   0   0     0  ...   0   28   2    0   \n",
       "425  대구   황재원  FB  대한민국  180  2906   1   3  14     3  ...  68  180  68   18   \n",
       "426  울산   황재환  MF  대한민국  170   275   0   0   4     2  ...   3   14   5    2   \n",
       "427  서울   황현수  CB  대한민국  183   486   0   0   1     0  ...   7   15  18    1   \n",
       "428  서울  히카르도  CB   브라질  190    97   0   0   0     0  ...   5    3   6    1   \n",
       "\n",
       "     파울  피파울  경고  퇴장  번호  출생연도  \n",
       "0    11   10   2   0  11  1997  \n",
       "1    10   16   1   1   4  1986  \n",
       "2     0    0   0   0  10  1993  \n",
       "3    12    5   3   0  36  2004  \n",
       "4     0    1   0   0  28  1998  \n",
       "..   ..  ...  ..  ..  ..   ...  \n",
       "424   1    4   2   0   1  1994  \n",
       "425  42   26   5   0   2  2002  \n",
       "426   4    1   0   0  14  2001  \n",
       "427   3    1   1   0   2  1995  \n",
       "428   1    1   0   0  45  1992  \n",
       "\n",
       "[429 rows x 77 columns]"
      ]
     },
     "execution_count": 2,
     "metadata": {},
     "output_type": "execute_result"
    }
   ],
   "source": [
    "url = \"C:/박규영/2022K리그포트폴리오/K리그1.xlsx\"\n",
    "df = pd.read_excel(url)\n",
    "df"
   ]
  },
  {
   "cell_type": "markdown",
   "id": "25b36dc9",
   "metadata": {},
   "source": [
    "## EDA\n"
   ]
  },
  {
   "cell_type": "markdown",
   "id": "f15252b9",
   "metadata": {},
   "source": [
    "### 1. 중복 선수 확인\n",
    "- 앞서 언급한 것처럼 본 데이터프레임은 중복된 선수를 포함하고 있다. 따라서 중복 선수에 대한 확인이 필요하다. \n",
    "    - 동명이인 구분 \n",
    "    - 한 시즌 내에 팀을 2번 이상 옮긴 선수 구분"
   ]
  },
  {
   "cell_type": "code",
   "execution_count": 3,
   "id": "df551607",
   "metadata": {
    "scrolled": false
   },
   "outputs": [
    {
     "name": "stdout",
     "output_type": "stream",
     "text": [
      "중복 선수 숫자: 46\n"
     ]
    }
   ],
   "source": [
    "# 중복 선수의 숫자 확인\n",
    "\n",
    "df2 = df[df.duplicated(subset=['선수명'], keep=False)]\n",
    "col = ['선수명','팀','출생연도']\n",
    "df3 = df2[col]\n",
    "\n",
    "print('중복 선수 숫자:', len(df3.reset_index(drop=True)))"
   ]
  },
  {
   "cell_type": "code",
   "execution_count": 5,
   "id": "50a906c3",
   "metadata": {},
   "outputs": [
    {
     "name": "stdout",
     "output_type": "stream",
     "text": [
      "      선수명  중복 개수\n",
      "0     박상혁      3\n",
      "1     이지훈      3\n",
      "2     김민석      2\n",
      "3     이준석      2\n",
      "4     하창래      2\n",
      "5   팔라시오스      2\n",
      "6     조규성      2\n",
      "7     정현철      2\n",
      "8     정승현      2\n",
      "9    일류첸코      2\n",
      "10    이태희      2\n",
      "11    이종성      2\n",
      "12    김민혁      2\n",
      "13     이용      2\n",
      "14    유인수      2\n",
      "15    연제운      2\n",
      "16    서진수      2\n",
      "17    명준재      2\n",
      "18    김태환      2\n",
      "19    김주성      2\n",
      "20    김승대      2\n",
      "21    한승규      2\n"
     ]
    }
   ],
   "source": [
    "df2 = df2.groupby('선수명').size().reset_index(name='중복 개수')\n",
    "\n",
    "print(df2.sort_values(by='중복 개수', ascending=False).reset_index(drop=True))"
   ]
  },
  {
   "cell_type": "markdown",
   "id": "bb9a19b0",
   "metadata": {},
   "source": [
    "#### 박상혁, 이지훈은 중복이 3개, 나머지 선수들은 2개임\n",
    "- (1) 박상혁, 이지훈 케이스\n",
    "- (2-1) 2개로 집계된 선수중 시즌 중반 이적한 케이스\n",
    "- (2-2) 2개로 집계된 선수중 동명이인 케이스"
   ]
  },
  {
   "cell_type": "markdown",
   "id": "089070d4",
   "metadata": {},
   "source": [
    "#### (1) 박상혁과 이지훈 케이스"
   ]
  },
  {
   "cell_type": "code",
   "execution_count": 117,
   "id": "cc5b8f12",
   "metadata": {},
   "outputs": [
    {
     "data": {
      "text/html": [
       "<div>\n",
       "<style scoped>\n",
       "    .dataframe tbody tr th:only-of-type {\n",
       "        vertical-align: middle;\n",
       "    }\n",
       "\n",
       "    .dataframe tbody tr th {\n",
       "        vertical-align: top;\n",
       "    }\n",
       "\n",
       "    .dataframe thead th {\n",
       "        text-align: right;\n",
       "    }\n",
       "</style>\n",
       "<table border=\"1\" class=\"dataframe\">\n",
       "  <thead>\n",
       "    <tr style=\"text-align: right;\">\n",
       "      <th></th>\n",
       "      <th>선수명</th>\n",
       "      <th>팀</th>\n",
       "      <th>출생연도</th>\n",
       "    </tr>\n",
       "  </thead>\n",
       "  <tbody>\n",
       "    <tr>\n",
       "      <th>161</th>\n",
       "      <td>박상혁</td>\n",
       "      <td>강원</td>\n",
       "      <td>2002</td>\n",
       "    </tr>\n",
       "    <tr>\n",
       "      <th>162</th>\n",
       "      <td>박상혁</td>\n",
       "      <td>김천</td>\n",
       "      <td>1998</td>\n",
       "    </tr>\n",
       "    <tr>\n",
       "      <th>163</th>\n",
       "      <td>박상혁</td>\n",
       "      <td>수원삼성</td>\n",
       "      <td>1998</td>\n",
       "    </tr>\n",
       "    <tr>\n",
       "      <th>307</th>\n",
       "      <td>이지훈</td>\n",
       "      <td>성남</td>\n",
       "      <td>1994</td>\n",
       "    </tr>\n",
       "    <tr>\n",
       "      <th>308</th>\n",
       "      <td>이지훈</td>\n",
       "      <td>전북</td>\n",
       "      <td>2002</td>\n",
       "    </tr>\n",
       "    <tr>\n",
       "      <th>309</th>\n",
       "      <td>이지훈</td>\n",
       "      <td>김천</td>\n",
       "      <td>2002</td>\n",
       "    </tr>\n",
       "  </tbody>\n",
       "</table>\n",
       "</div>"
      ],
      "text/plain": [
       "     선수명     팀  출생연도\n",
       "161  박상혁    강원  2002\n",
       "162  박상혁    김천  1998\n",
       "163  박상혁  수원삼성  1998\n",
       "307  이지훈    성남  1994\n",
       "308  이지훈    전북  2002\n",
       "309  이지훈    김천  2002"
      ]
     },
     "execution_count": 117,
     "metadata": {},
     "output_type": "execute_result"
    }
   ],
   "source": [
    "df3[(df3['선수명'] == '박상혁') | (df3['선수명'] == '이지훈')]"
   ]
  },
  {
   "cell_type": "markdown",
   "id": "f2b3b1e9",
   "metadata": {},
   "source": [
    "- 1998년생 박상혁이 2명, 2002년생 박상혁이 1명임\n",
    "- 이는 1998년생 박상혁이 시즌 중반에 한 번 이적을 했고, 별도로 2002년생 박상혁이 존재한다는 것임\n",
    "- 이지훈 역시 마찬가지로 해석가능함\n",
    "- 박상혁과 이지훈은 동명이인 + 시즌중반에 한 번 이적을 한 경우임"
   ]
  },
  {
   "cell_type": "markdown",
   "id": "2a1985e5",
   "metadata": {},
   "source": [
    "#### (2) 2개로 집계된 선수중 시즌 중반 이적한 케이스"
   ]
  },
  {
   "cell_type": "code",
   "execution_count": 118,
   "id": "355e8785",
   "metadata": {},
   "outputs": [
    {
     "name": "stdout",
     "output_type": "stream",
     "text": [
      "시즌 중반에 이적한 케이스 수: 17\n",
      "--------------------------\n",
      "65       김민혁\n",
      "75       김승대\n",
      "91       김주성\n",
      "136      명준재\n",
      "194      서진수\n",
      "233      연제운\n",
      "249      유인수\n",
      "286       이용\n",
      "298      이종성\n",
      "303      이준석\n",
      "320     일류첸코\n",
      "343      정승현\n",
      "355      정현철\n",
      "360      조규성\n",
      "396    팔라시오스\n",
      "400      하창래\n",
      "406      한승규\n",
      "Name: 선수명, dtype: object\n"
     ]
    }
   ],
   "source": [
    "df4 = df3[(df3['선수명'] != '박상혁') & (df3['선수명'] != '이지훈')] # 박상혁 이지훈 제외\n",
    "df_trans = df4[df4.duplicated(subset=['선수명', '출생연도'], keep=False)]\n",
    "df_trans = df_trans.drop_duplicates(subset=['선수명'])\n",
    "\n",
    "print('시즌 중반에 이적한 케이스 수:',len(df_trans))\n",
    "print('--------------------------')\n",
    "print(df_trans['선수명'])"
   ]
  },
  {
   "cell_type": "markdown",
   "id": "2f90069d",
   "metadata": {},
   "source": [
    "- 총 17명의 선수가 시즌 중반에 이적하였고, 그 명단은 위와 같음"
   ]
  },
  {
   "cell_type": "markdown",
   "id": "f6aad815",
   "metadata": {},
   "source": [
    "#### (2-2) 2개로 집계된 선수중 동명이인 케이스"
   ]
  },
  {
   "cell_type": "code",
   "execution_count": 120,
   "id": "78bac115",
   "metadata": {},
   "outputs": [
    {
     "name": "stderr",
     "output_type": "stream",
     "text": [
      "C:\\Users\\koaro\\AppData\\Local\\Temp\\ipykernel_9068\\1607042549.py:9: FutureWarning: The frame.append method is deprecated and will be removed from pandas in a future version. Use pandas.concat instead.\n",
      "  result = result.append(row, ignore_index=True)\n",
      "C:\\Users\\koaro\\AppData\\Local\\Temp\\ipykernel_9068\\1607042549.py:9: FutureWarning: The frame.append method is deprecated and will be removed from pandas in a future version. Use pandas.concat instead.\n",
      "  result = result.append(row, ignore_index=True)\n",
      "C:\\Users\\koaro\\AppData\\Local\\Temp\\ipykernel_9068\\1607042549.py:9: FutureWarning: The frame.append method is deprecated and will be removed from pandas in a future version. Use pandas.concat instead.\n",
      "  result = result.append(row, ignore_index=True)\n",
      "C:\\Users\\koaro\\AppData\\Local\\Temp\\ipykernel_9068\\1607042549.py:9: FutureWarning: The frame.append method is deprecated and will be removed from pandas in a future version. Use pandas.concat instead.\n",
      "  result = result.append(row, ignore_index=True)\n",
      "C:\\Users\\koaro\\AppData\\Local\\Temp\\ipykernel_9068\\1607042549.py:9: FutureWarning: The frame.append method is deprecated and will be removed from pandas in a future version. Use pandas.concat instead.\n",
      "  result = result.append(row, ignore_index=True)\n",
      "C:\\Users\\koaro\\AppData\\Local\\Temp\\ipykernel_9068\\1607042549.py:9: FutureWarning: The frame.append method is deprecated and will be removed from pandas in a future version. Use pandas.concat instead.\n",
      "  result = result.append(row, ignore_index=True)\n"
     ]
    }
   ],
   "source": [
    "result = pd.DataFrame(columns=df3.columns)\n",
    "\n",
    "for idx, row in df4.iterrows(): #iterrows루프를 이용해 인덱스와 행 추출\n",
    "    player_name = row['선수명']\n",
    "    birth_year = row['출생연도']\n",
    "    matching_rows = df_trans[(df_trans['선수명'] == player_name) & (df_trans['출생연도'] == birth_year)]\n",
    "\n",
    "    if matching_rows.empty: # 생성한 matching_rows가 비었다면 df5의 행을 추가함\n",
    "        result = result.append(row, ignore_index=True)"
   ]
  },
  {
   "cell_type": "code",
   "execution_count": 121,
   "id": "0f6da73c",
   "metadata": {},
   "outputs": [
    {
     "name": "stdout",
     "output_type": "stream",
     "text": [
      "   선수명     팀  출생연도\n",
      "0  김민석    김천  1997\n",
      "1  김민석    인천  2002\n",
      "2  김태환  수원삼성  2000\n",
      "3  김태환    울산  1989\n",
      "4  이태희    인천  1995\n",
      "5  이태희    대구  1992\n"
     ]
    }
   ],
   "source": [
    "print(result)"
   ]
  },
  {
   "cell_type": "markdown",
   "id": "e43d12d1",
   "metadata": {},
   "source": [
    "- 총 6명의 선수가 동명이인임"
   ]
  },
  {
   "cell_type": "markdown",
   "id": "856a0214",
   "metadata": {},
   "source": [
    "#### 중복선수 요약\n",
    "- 총 19명의 선수가 시즌 중반에 이적함\n",
    "- 총 10명의 선수가 동명이인이며 명단은 다음과 같음\n",
    "- 김민석(1997), 김민석(2002), 김태환(2000), 김태환(1989), 박상혁(2002), 박상혁(1998), 이지훈(2002), 이지훈(1994), 이태희(1995), 이태희(1992) \n",
    "- 총 410명(중복제외)의 선수 데이터가 포함되어있음 "
   ]
  },
  {
   "cell_type": "markdown",
   "id": "19d9f7ce",
   "metadata": {},
   "source": [
    "### 2.  U-22 선수 출전시간 EDA\n",
    "- ANOVA에 사용하 변수 추정하기\n",
    "- 구단별 U-22 선수 출전시간 간략히 확인\n",
    "- 포지션별U-22 선수 출전시간 간략히 확인"
   ]
  },
  {
   "cell_type": "markdown",
   "id": "cd6854f4",
   "metadata": {},
   "source": [
    "#### 중복선수 제거가 필요없는 경우, 팀 단위로 차이 유무 확인할 때 (특정 팀에서 뛴 시간 고려 필요) (data1)\n",
    "#### 중복선수 제거가 필요한 경우, 팀이 아닌 리그 전체 혹은 나이 단위로 차이 유무 확인할 때 (data2)"
   ]
  },
  {
   "cell_type": "code",
   "execution_count": 6,
   "id": "cb99609f",
   "metadata": {},
   "outputs": [],
   "source": [
    "df['나이'] =  2022 - df['출생연도']\n",
    "col_name = ['선수명','팀','포지션','나이','출전시간','국적']\n",
    "\n",
    "data1 = df[col_name]\n",
    "data1 = data1[data1['국적'] == '대한민국']\n",
    "data1['U22여부'] = data1['나이'].apply(lambda x: '오버' if x >= 23 else '언더')"
   ]
  },
  {
   "cell_type": "code",
   "execution_count": 7,
   "id": "bb4cfd3f",
   "metadata": {},
   "outputs": [],
   "source": [
    "# 중복선수 제거작업\n",
    "\n",
    "result = data1.groupby(['선수명', '나이'], as_index=False).agg({'출전시간': 'sum'}) # result에 중복선수 출전시간 합계 저장\n",
    "data2 = data1.drop(columns=['출전시간']) \n",
    "data2 = pd.merge(data2, result, left_on=['선수명', '나이'], right_on=['선수명', '나이'], how='left')\n",
    "data2 = data2.drop_duplicates(subset=['선수명', '나이', '출전시간'])"
   ]
  },
  {
   "cell_type": "code",
   "execution_count": 8,
   "id": "e263d0a2",
   "metadata": {},
   "outputs": [
    {
     "data": {
      "text/html": [
       "<div>\n",
       "<style scoped>\n",
       "    .dataframe tbody tr th:only-of-type {\n",
       "        vertical-align: middle;\n",
       "    }\n",
       "\n",
       "    .dataframe tbody tr th {\n",
       "        vertical-align: top;\n",
       "    }\n",
       "\n",
       "    .dataframe thead th {\n",
       "        text-align: right;\n",
       "    }\n",
       "</style>\n",
       "<table border=\"1\" class=\"dataframe\">\n",
       "  <thead>\n",
       "    <tr style=\"text-align: right;\">\n",
       "      <th></th>\n",
       "      <th>선수명</th>\n",
       "      <th>팀</th>\n",
       "      <th>포지션</th>\n",
       "      <th>나이</th>\n",
       "      <th>국적</th>\n",
       "      <th>U22여부</th>\n",
       "      <th>출전시간</th>\n",
       "    </tr>\n",
       "  </thead>\n",
       "  <tbody>\n",
       "    <tr>\n",
       "      <th>277</th>\n",
       "      <td>이지훈</td>\n",
       "      <td>성남</td>\n",
       "      <td>FB</td>\n",
       "      <td>28</td>\n",
       "      <td>대한민국</td>\n",
       "      <td>오버</td>\n",
       "      <td>874</td>\n",
       "    </tr>\n",
       "    <tr>\n",
       "      <th>278</th>\n",
       "      <td>이지훈</td>\n",
       "      <td>전북</td>\n",
       "      <td>FW</td>\n",
       "      <td>20</td>\n",
       "      <td>대한민국</td>\n",
       "      <td>언더</td>\n",
       "      <td>335</td>\n",
       "    </tr>\n",
       "  </tbody>\n",
       "</table>\n",
       "</div>"
      ],
      "text/plain": [
       "     선수명   팀 포지션  나이    국적 U22여부  출전시간\n",
       "277  이지훈  성남  FB  28  대한민국    오버   874\n",
       "278  이지훈  전북  FW  20  대한민국    언더   335"
      ]
     },
     "execution_count": 8,
     "metadata": {},
     "output_type": "execute_result"
    }
   ],
   "source": [
    "# 중복제거 여부 확인 \n",
    "\n",
    "data2[data2['선수명']=='이지훈']"
   ]
  },
  {
   "cell_type": "code",
   "execution_count": 210,
   "id": "bb568585",
   "metadata": {},
   "outputs": [
    {
     "data": {
      "image/png": "[encoded data removed]",
      "text/plain": [
       "<Figure size 1000x600 with 1 Axes>"
      ]
     },
     "metadata": {},
     "output_type": "display_data"
    }
   ],
   "source": [
    "plt.figure(figsize=(10,6))\n",
    "plt.title('2022시즌 K리그1 U22 선수 구단별 출전시간 차이')\n",
    "\n",
    "# plot swarmplot\n",
    "sns.swarmplot(data=data1[data1['U22여부'] == '언더'], x=\"팀\", y=\"출전시간\")\n",
    "\n",
    "# plot boxplot\n",
    "sns.boxplot(data=data1[data1['U22여부'] == '언더'], x=\"팀\", y=\"출전시간\", \n",
    "            showcaps=False,             # 박스 상단 가로라인 보이지 않기\n",
    "            whiskerprops={'linewidth':0}, # 박스 상단 세로 라인 보이지 않기 \n",
    "            showfliers=False,           # 박스 범위 벗어난 아웃라이어 표시하지 않기\n",
    "            boxprops={'facecolor':'None'}, # 박스 색상 지우기\n",
    "        )\n",
    "plt.show();"
   ]
  },
  {
   "cell_type": "code",
   "execution_count": 220,
   "id": "5ce03df3",
   "metadata": {},
   "outputs": [
    {
     "data": {
      "image/png": "[encoded data removed]",
      "text/plain": [
       "<Figure size 1000x600 with 2 Axes>"
      ]
     },
     "metadata": {},
     "output_type": "display_data"
    }
   ],
   "source": [
    "plt.figure(figsize=(10,6))\n",
    "plt.subplot(1,2,1)\n",
    "sns.boxplot(data=data2, x='U22여부',y='출전시간')\n",
    "\n",
    "plt.subplot(1,2,2)\n",
    "sns.boxplot(data=data1[data1['출전시간'] != 0], x='U22여부',y='출전시간')\n",
    "\n",
    "plt.show();"
   ]
  },
  {
   "cell_type": "code",
   "execution_count": 38,
   "id": "6a0c7bc0",
   "metadata": {},
   "outputs": [
    {
     "data": {
      "text/plain": [
       "13"
      ]
     },
     "execution_count": 38,
     "metadata": {},
     "output_type": "execute_result"
    }
   ],
   "source": [
    "len(a[a['출전시간']==0])"
   ]
  },
  {
   "cell_type": "code",
   "execution_count": 37,
   "id": "edb84107",
   "metadata": {},
   "outputs": [],
   "source": [
    "a = data2[data2['U22여부']=='언더'].sort_values(by='출전시간', ascending=False)\n",
    "not_zero = a[a['출전시간'] != 0]\n",
    "not_zero.describe()"
   ]
  },
  {
   "cell_type": "code",
   "execution_count": 77,
   "id": "0b3dfa32",
   "metadata": {},
   "outputs": [
    {
     "data": {
      "image/png": "[encoded data removed]",
      "text/plain": [
       "<Figure size 640x480 with 1 Axes>"
      ]
     },
     "metadata": {},
     "output_type": "display_data"
    }
   ],
   "source": [
    "sns.swarmplot(data=not_zero, x=\"포지션\", y=\"출전시간\")\n",
    "sns.boxplot(data=not_zero, x=\"포지션\", y=\"출전시간\", \n",
    "            showcaps=False,             # 박스 상단 가로라인 보이지 않기\n",
    "            whiskerprops={'linewidth':0}, # 박스 상단 세로 라인 보이지 않기 \n",
    "            showfliers=False,           # 박스 범위 벗어난 아웃라이어 표시하지 않기\n",
    "            boxprops={'facecolor':'None'}, # 박스 색상 지우기\n",
    "        )\n",
    "plt.show();"
   ]
  },
  {
   "cell_type": "code",
   "execution_count": 67,
   "id": "fbaccd47",
   "metadata": {},
   "outputs": [
    {
     "name": "stdout",
     "output_type": "stream",
     "text": [
      "U22 FW 숫자: 35 명\n",
      "U22 FB 숫자: 9 명\n",
      "U22 MF 숫자: 27 명\n",
      "U22 CB 숫자: 7 명\n",
      "U22 GK 숫자: 4 명\n"
     ]
    }
   ],
   "source": [
    "position = ['FW','FB','MF','CB','GK']\n",
    "\n",
    "for i in range(len(position)):\n",
    "    cnt = len(not_zero[not_zero['포지션'] == position[i]])\n",
    "    print(f'U22 {position[i]} 숫자:', cnt,'명')"
   ]
  }
 ],
 "metadata": {
  "kernelspec": {
   "display_name": "Python 3 (ipykernel)",
   "language": "python",
   "name": "python3"
  },
  "language_info": {
   "codemirror_mode": {
    "name": "ipython",
    "version": 3
   },
   "file_extension": ".py",
   "mimetype": "text/x-python",
   "name": "python",
   "nbconvert_exporter": "python",
   "pygments_lexer": "ipython3",
   "version": "3.9.13"
  }
 },
 "nbformat": 4,
 "nbformat_minor": 5
}
