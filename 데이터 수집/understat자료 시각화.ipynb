{
 "cells": [
  {
   "cell_type": "code",
   "execution_count": 2,
   "id": "27e9d440",
   "metadata": {
    "collapsed": true
   },
   "outputs": [
    {
     "name": "stdout",
     "output_type": "stream",
     "text": [
      "Collecting mplsoccer\n",
      "  Downloading mplsoccer-1.2.1-py3-none-any.whl (78 kB)\n",
      "     ---------------------------------------- 78.8/78.8 kB 4.3 MB/s eta 0:00:00\n",
      "Requirement already satisfied: numpy in c:\\users\\koaro\\anaconda3\\lib\\site-packages (from mplsoccer) (1.21.5)\n",
      "Requirement already satisfied: seaborn in c:\\users\\koaro\\anaconda3\\lib\\site-packages (from mplsoccer) (0.11.2)\n",
      "Requirement already satisfied: requests in c:\\users\\koaro\\anaconda3\\lib\\site-packages (from mplsoccer) (2.28.1)\n",
      "Collecting matplotlib>=3.6\n",
      "  Downloading matplotlib-3.7.2-cp39-cp39-win_amd64.whl (7.5 MB)\n",
      "     ---------------------------------------- 7.5/7.5 MB 6.8 MB/s eta 0:00:00\n",
      "Requirement already satisfied: pillow in c:\\users\\koaro\\anaconda3\\lib\\site-packages (from mplsoccer) (9.2.0)\n",
      "Requirement already satisfied: pandas in c:\\users\\koaro\\anaconda3\\lib\\site-packages (from mplsoccer) (1.4.4)\n",
      "Requirement already satisfied: scipy in c:\\users\\koaro\\anaconda3\\lib\\site-packages (from mplsoccer) (1.9.1)\n",
      "Requirement already satisfied: pyparsing<3.1,>=2.3.1 in c:\\users\\koaro\\anaconda3\\lib\\site-packages (from matplotlib>=3.6->mplsoccer) (3.0.9)\n",
      "Requirement already satisfied: fonttools>=4.22.0 in c:\\users\\koaro\\anaconda3\\lib\\site-packages (from matplotlib>=3.6->mplsoccer) (4.25.0)\n",
      "Requirement already satisfied: packaging>=20.0 in c:\\users\\koaro\\anaconda3\\lib\\site-packages (from matplotlib>=3.6->mplsoccer) (21.3)\n",
      "Requirement already satisfied: python-dateutil>=2.7 in c:\\users\\koaro\\anaconda3\\lib\\site-packages (from matplotlib>=3.6->mplsoccer) (2.8.2)\n",
      "Collecting importlib-resources>=3.2.0\n",
      "  Downloading importlib_resources-6.0.0-py3-none-any.whl (31 kB)\n",
      "Collecting contourpy>=1.0.1\n",
      "  Downloading contourpy-1.1.0-cp39-cp39-win_amd64.whl (429 kB)\n",
      "     -------------------------------------- 429.4/429.4 kB 8.9 MB/s eta 0:00:00\n",
      "Requirement already satisfied: kiwisolver>=1.0.1 in c:\\users\\koaro\\anaconda3\\lib\\site-packages (from matplotlib>=3.6->mplsoccer) (1.4.2)\n",
      "Requirement already satisfied: cycler>=0.10 in c:\\users\\koaro\\anaconda3\\lib\\site-packages (from matplotlib>=3.6->mplsoccer) (0.11.0)\n",
      "Requirement already satisfied: pytz>=2020.1 in c:\\users\\koaro\\anaconda3\\lib\\site-packages (from pandas->mplsoccer) (2022.1)\n",
      "Requirement already satisfied: idna<4,>=2.5 in c:\\users\\koaro\\anaconda3\\lib\\site-packages (from requests->mplsoccer) (3.3)\n",
      "Requirement already satisfied: charset-normalizer<3,>=2 in c:\\users\\koaro\\anaconda3\\lib\\site-packages (from requests->mplsoccer) (2.0.4)\n",
      "Requirement already satisfied: certifi>=2017.4.17 in c:\\users\\koaro\\anaconda3\\lib\\site-packages (from requests->mplsoccer) (2022.9.14)\n",
      "Requirement already satisfied: urllib3<1.27,>=1.21.1 in c:\\users\\koaro\\anaconda3\\lib\\site-packages (from requests->mplsoccer) (1.26.11)\n",
      "Requirement already satisfied: zipp>=3.1.0 in c:\\users\\koaro\\anaconda3\\lib\\site-packages (from importlib-resources>=3.2.0->matplotlib>=3.6->mplsoccer) (3.8.0)\n",
      "Requirement already satisfied: six>=1.5 in c:\\users\\koaro\\anaconda3\\lib\\site-packages (from python-dateutil>=2.7->matplotlib>=3.6->mplsoccer) (1.16.0)\n",
      "Installing collected packages: importlib-resources, contourpy, matplotlib, mplsoccer\n",
      "  Attempting uninstall: matplotlib\n",
      "    Found existing installation: matplotlib 3.5.2\n",
      "    Uninstalling matplotlib-3.5.2:\n",
      "      Successfully uninstalled matplotlib-3.5.2\n",
      "Successfully installed contourpy-1.1.0 importlib-resources-6.0.0 matplotlib-3.7.2 mplsoccer-1.2.1\n",
      "Note: you may need to restart the kernel to use updated packages.\n"
     ]
    }
   ],
   "source": [
    "#pip install mplsoccer"
   ]
  },
  {
   "cell_type": "code",
   "execution_count": 3,
   "id": "f5c85c9d",
   "metadata": {},
   "outputs": [],
   "source": [
    "import pandas as pd\n",
    "import numpy as np \n",
    "from bs4 import BeautifulSoup\n",
    "import matplotlib.pyplot as plt\n",
    "import matplotlib.patches as mpatches\n",
    "import json\n",
    "from mplsoccer.pitch import Pitch, VerticalPitch\n",
    "import requests"
   ]
  },
  {
   "cell_type": "code",
   "execution_count": 57,
   "id": "312eaf64",
   "metadata": {},
   "outputs": [],
   "source": [
    "#fill out necessarry information of about player and plot type here\n",
    "\n",
    "player_id = 453 #undestat player id\n",
    "is_season = True #if is_season = True, then specify season\n",
    "season = 2022 #2020 corresponds to 2020/21 \n",
    "highlight_goals = False"
   ]
  },
  {
   "cell_type": "code",
   "execution_count": 40,
   "id": "0f5ed03d",
   "metadata": {
    "scrolled": false
   },
   "outputs": [],
   "source": [
    "#data scraping \n",
    "\n",
    "def get_player_data(player_id):\n",
    "    base = \"https://understat.com/player/\"\n",
    "    base_url = base + str(player_id)\n",
    "    url = base_url\n",
    "    res = requests.get(url)\n",
    "    soup = BeautifulSoup(res.content, \"lxml\")\n",
    "\n",
    "    scripts = soup.find_all('script')\n",
    "    strings = scripts[3].string\n",
    "\n",
    "    ind_start = strings.index(\"('\") + 2\n",
    "    ind_end = strings.index(\"')\")\n",
    "\n",
    "    json_data = strings[ind_start:ind_end]\n",
    "    json_data = json_data.encode('utf8').decode('unicode_escape')\n",
    "\n",
    "    data = json.loads(json_data)\n",
    "\n",
    "    finaldata = pd.DataFrame.from_dict(data)\n",
    "    return finaldata"
   ]
  },
  {
   "cell_type": "code",
   "execution_count": 51,
   "id": "e227ab21",
   "metadata": {},
   "outputs": [],
   "source": [
    "finaldata = get_player_data(player_id)"
   ]
  },
  {
   "cell_type": "code",
   "execution_count": 52,
   "id": "7ba555a3",
   "metadata": {},
   "outputs": [],
   "source": [
    "# Data Wrangling\n",
    "\n",
    "# 수치형 변환\n",
    "\n",
    "finaldata[\"X\"] = pd.to_numeric(finaldata[\"X\"])\n",
    "finaldata[\"Y\"] = pd.to_numeric(finaldata[\"Y\"])\n",
    "finaldata[\"season\"] = pd.to_numeric(finaldata[\"season\"])\n",
    "finaldata[\"minute\"] = pd.to_numeric(finaldata[\"minute\"])\n",
    "finaldata[\"xG\"] = pd.to_numeric(finaldata[\"xG\"])\n",
    "\n",
    "# 라이브러리 구현을 위해 *120과 80을 해줘야 하나 봅니다\n",
    "\n",
    "finaldata[\"X\"] = finaldata[\"X\"] * 120\n",
    "finaldata[\"Y\"] = finaldata[\"Y\"] * 80  "
   ]
  },
  {
   "cell_type": "code",
   "execution_count": 53,
   "id": "3309bfef",
   "metadata": {},
   "outputs": [],
   "source": [
    "# 페넕티 득점 제외\n",
    "# \"result\", \"X\", \"Y\", \"xG\", \"player\", \"season\" 컬럼만 부름 \n",
    "\n",
    "finaldata = finaldata[finaldata[\"situation\"] != \"Penalty\"]\n",
    "finaldata = finaldata[[\"result\", \"X\", \"Y\", \"xG\", \"player\", \"season\"]]"
   ]
  },
  {
   "cell_type": "code",
   "execution_count": 59,
   "id": "92e9c84f",
   "metadata": {},
   "outputs": [
    {
     "name": "stderr",
     "output_type": "stream",
     "text": [
      "C:\\Users\\koaro\\AppData\\Local\\Temp\\ipykernel_19812\\3018150036.py:7: SettingWithCopyWarning: \n",
      "A value is trying to be set on a copy of a slice from a DataFrame.\n",
      "Try using .loc[row_indexer,col_indexer] = value instead\n",
      "\n",
      "See the caveats in the documentation: https://pandas.pydata.org/pandas-docs/stable/user_guide/indexing.html#returning-a-view-versus-a-copy\n",
      "  finaldata[\"season\"] = finaldata[\"season\"].map(year)\n"
     ]
    }
   ],
   "source": [
    "if is_season == True:\n",
    "        finaldata = finaldata[finaldata[\"season\"] == season]\n",
    "        \n",
    "        year = {2014: \"2014/15\", 2015: \"2015/16\", 2016: \"2016/17\", 2017: \"2017/18\", 2018: \"2018/19\", \n",
    "                2019: \"2019/20\", 2020: \"2020/21\", 2021: \"2021/22\", 2022: \"2022/23\"}\n",
    "        \n",
    "        finaldata[\"season\"] = finaldata[\"season\"].map(year)\n",
    "        \n",
    "        szn = finaldata[\"season\"].values[0]\n",
    "        \n",
    "        x = 45.2\n",
    "        y = 62\n",
    "        \n",
    "elif is_season == False:\n",
    "        finaldata[\"all\"] = finaldata[\"season\"]\n",
    "        finaldata[\"all\"] = \"All Seasons\"\n",
    "        szn = finaldata[\"all\"].values[0]\n",
    "        x = 47\n",
    "        y = 62"
   ]
  }
 ],
 "metadata": {
  "kernelspec": {
   "display_name": "Python 3 (ipykernel)",
   "language": "python",
   "name": "python3"
  },
  "language_info": {
   "codemirror_mode": {
    "name": "ipython",
    "version": 3
   },
   "file_extension": ".py",
   "mimetype": "text/x-python",
   "name": "python",
   "nbconvert_exporter": "python",
   "pygments_lexer": "ipython3",
   "version": "3.9.13"
  }
 },
 "nbformat": 4,
 "nbformat_minor": 5
}
